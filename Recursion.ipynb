{
 "cells": [
  {
   "cell_type": "markdown",
   "id": "775feec8-0780-425f-9bc8-52ce758433d0",
   "metadata": {},
   "source": [
    "# Fibonacci Sequence\n",
    "\n",
    "## 1, 1, 2, 3, 5, 8, 13, 21, 34, etc"
   ]
  },
  {
   "cell_type": "code",
   "execution_count": 1,
   "id": "17cec0b6-75c4-4444-9eda-be732eede49f",
   "metadata": {},
   "outputs": [],
   "source": [
    "def recursion(length):\n",
    "    num = 1\n",
    "    arr = []\n",
    "    \n",
    "   \n",
    "    if length < 1:\n",
    "        return []\n",
    "    if length ==1:\n",
    "        return [1]\n",
    "    \n",
    "    arr.append(num) # 0th number\n",
    "    arr.append(num) # 1st number. Also functions as an adder before we change it\n",
    "    \n",
    "    for i in range(2,length):\n",
    "        arr.append(num) # Create the next index before chaning it to what we want it to be \n",
    "        arr[i] = arr[i-1] + arr[i-2]\n",
    "        \n",
    "    return arr\n",
    "        "
   ]
  },
  {
   "cell_type": "code",
   "execution_count": 5,
   "id": "66279afd-21a3-4d38-84b6-c78a20205bea",
   "metadata": {
    "tags": []
   },
   "outputs": [],
   "source": [
    "p = recursion(1000)"
   ]
  },
  {
   "cell_type": "code",
   "execution_count": 7,
   "id": "8ae818b0-8889-455e-be8b-6f860f41cc58",
   "metadata": {},
   "outputs": [
    {
     "data": {
      "text/plain": [
       "[1,\n",
       " 1,\n",
       " 2,\n",
       " 3,\n",
       " 5,\n",
       " 8,\n",
       " 13,\n",
       " 21,\n",
       " 34,\n",
       " 55,\n",
       " 89,\n",
       " 144,\n",
       " 233,\n",
       " 377,\n",
       " 610,\n",
       " 987,\n",
       " 1597,\n",
       " 2584,\n",
       " 4181,\n",
       " 6765,\n",
       " 10946,\n",
       " 17711,\n",
       " 28657,\n",
       " 46368,\n",
       " 75025,\n",
       " 121393,\n",
       " 196418,\n",
       " 317811,\n",
       " 514229,\n",
       " 832040,\n",
       " 1346269,\n",
       " 2178309,\n",
       " 3524578,\n",
       " 5702887,\n",
       " 9227465,\n",
       " 14930352,\n",
       " 24157817,\n",
       " 39088169,\n",
       " 63245986,\n",
       " 102334155,\n",
       " 165580141,\n",
       " 267914296,\n",
       " 433494437,\n",
       " 701408733,\n",
       " 1134903170,\n",
       " 1836311903,\n",
       " 2971215073,\n",
       " 4807526976,\n",
       " 7778742049,\n",
       " 12586269025,\n",
       " 20365011074,\n",
       " 32951280099,\n",
       " 53316291173,\n",
       " 86267571272,\n",
       " 139583862445,\n",
       " 225851433717,\n",
       " 365435296162,\n",
       " 591286729879,\n",
       " 956722026041,\n",
       " 1548008755920,\n",
       " 2504730781961,\n",
       " 4052739537881,\n",
       " 6557470319842,\n",
       " 10610209857723,\n",
       " 17167680177565,\n",
       " 27777890035288,\n",
       " 44945570212853,\n",
       " 72723460248141,\n",
       " 117669030460994,\n",
       " 190392490709135,\n",
       " 308061521170129,\n",
       " 498454011879264,\n",
       " 806515533049393,\n",
       " 1304969544928657,\n",
       " 2111485077978050,\n",
       " 3416454622906707,\n",
       " 5527939700884757,\n",
       " 8944394323791464,\n",
       " 14472334024676221,\n",
       " 23416728348467685,\n",
       " 37889062373143906,\n",
       " 61305790721611591,\n",
       " 99194853094755497,\n",
       " 160500643816367088,\n",
       " 259695496911122585,\n",
       " 420196140727489673,\n",
       " 679891637638612258,\n",
       " 1100087778366101931,\n",
       " 1779979416004714189,\n",
       " 2880067194370816120,\n",
       " 4660046610375530309,\n",
       " 7540113804746346429,\n",
       " 12200160415121876738,\n",
       " 19740274219868223167,\n",
       " 31940434634990099905,\n",
       " 51680708854858323072,\n",
       " 83621143489848422977,\n",
       " 135301852344706746049,\n",
       " 218922995834555169026,\n",
       " 354224848179261915075]"
      ]
     },
     "execution_count": 7,
     "metadata": {},
     "output_type": "execute_result"
    }
   ],
   "source": [
    "p[0:100]"
   ]
  },
  {
   "cell_type": "code",
   "execution_count": 10,
   "id": "bd86c75e-7b91-4c3d-bbca-8219ae4275e3",
   "metadata": {},
   "outputs": [
    {
     "data": {
      "text/plain": [
       "1.618033988749895"
      ]
     },
     "execution_count": 10,
     "metadata": {},
     "output_type": "execute_result"
    }
   ],
   "source": [
    "p[999]/p[998] # The golden number "
   ]
  },
  {
   "cell_type": "code",
   "execution_count": null,
   "id": "466bed6d-3ed8-4982-91b7-30e6d15bb945",
   "metadata": {},
   "outputs": [],
   "source": []
  }
 ],
 "metadata": {
  "kernelspec": {
   "display_name": "Python 3",
   "language": "python",
   "name": "python3"
  },
  "language_info": {
   "codemirror_mode": {
    "name": "ipython",
    "version": 3
   },
   "file_extension": ".py",
   "mimetype": "text/x-python",
   "name": "python",
   "nbconvert_exporter": "python",
   "pygments_lexer": "ipython3",
   "version": "3.8.8"
  }
 },
 "nbformat": 4,
 "nbformat_minor": 5
}
