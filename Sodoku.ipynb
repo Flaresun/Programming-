{
 "cells": [
  {
   "cell_type": "code",
   "execution_count": 9,
   "id": "3d9722ee-e2bd-4fdd-9374-e69074760124",
   "metadata": {},
   "outputs": [],
   "source": [
    "import numpy as np\n",
    "import time "
   ]
  },
  {
   "cell_type": "code",
   "execution_count": 314,
   "id": "1eca2b98-6b9a-4701-b44d-7b13d73d5378",
   "metadata": {},
   "outputs": [],
   "source": [
    "arr = [[\"5\",\"3\",\".\",\".\",\"7\",\".\",\".\",\".\",\".\"],\n",
    "       [\"6\",\".\",\".\",\"1\",\"9\",\"5\",\".\",\".\",\".\"],\n",
    "       [\".\",\"9\",\"8\",\".\",\".\",\".\",\".\",\"6\",\".\"],\n",
    "       [\"8\",\".\",\".\",\".\",\"6\",\".\",\".\",\".\",\"3\"],\n",
    "       [\"4\",\".\",\".\",\"8\",\".\",\"3\",\".\",\".\",\"1\"],\n",
    "       [\"7\",\".\",\".\",\".\",\"2\",\".\",\".\",\".\",\"6\"],\n",
    "       [\".\",\"6\",\".\",\".\",\".\",\".\",\"2\",\"8\",\".\"],\n",
    "       [\".\",\".\",\".\",\"4\",\"1\",\"9\",\".\",\".\",\"5\"],\n",
    "       [\".\",\".\",\".\",\".\",\"8\",\".\",\".\",\"7\",\"9\"]]\n",
    "arr = np.array(arr)"
   ]
  },
  {
   "cell_type": "code",
   "execution_count": 216,
   "id": "3123e743-c09d-4b5b-a698-95e74f7224b6",
   "metadata": {},
   "outputs": [],
   "source": [
    "## arr = np.array(arr) # This makes our Zone section so much easier"
   ]
  },
  {
   "cell_type": "code",
   "execution_count": 78,
   "id": "5dcd32aa-11ae-4c77-9867-093aa0b18e94",
   "metadata": {},
   "outputs": [
    {
     "data": {
      "text/plain": [
       "array([2, 2])"
      ]
     },
     "execution_count": 78,
     "metadata": {},
     "output_type": "execute_result"
    }
   ],
   "source": [
    "np.array([2,2])"
   ]
  },
  {
   "cell_type": "code",
   "execution_count": 5,
   "id": "ac500f9e-f29b-47cb-832d-993a6dc3127a",
   "metadata": {},
   "outputs": [],
   "source": [
    "test = []\n",
    "for x in range(5):\n",
    "    test.append([x,x+1])"
   ]
  },
  {
   "cell_type": "code",
   "execution_count": 6,
   "id": "0049c0e9-944a-4f98-ab6c-811df8ca0b11",
   "metadata": {},
   "outputs": [
    {
     "name": "stdout",
     "output_type": "stream",
     "text": [
      "[0, 1]\n",
      "[1, 2]\n",
      "[2, 3]\n",
      "[3, 4]\n",
      "[4, 5]\n"
     ]
    }
   ],
   "source": [
    "for x in test:\n",
    "    print(x)"
   ]
  },
  {
   "cell_type": "code",
   "execution_count": 7,
   "id": "3d0ab1dd-8ce2-4391-ba91-c1c933c2ad87",
   "metadata": {},
   "outputs": [],
   "source": [
    "t = test[0]"
   ]
  },
  {
   "cell_type": "code",
   "execution_count": 8,
   "id": "8ef90587-ca93-4cbf-93d9-9cb1eee6a3ac",
   "metadata": {},
   "outputs": [
    {
     "data": {
      "text/plain": [
       "[0, 1]"
      ]
     },
     "execution_count": 8,
     "metadata": {},
     "output_type": "execute_result"
    }
   ],
   "source": [
    "t"
   ]
  },
  {
   "cell_type": "code",
   "execution_count": 9,
   "id": "ce287a0e-de60-4019-b83e-835f84f9e3a1",
   "metadata": {},
   "outputs": [
    {
     "data": {
      "text/plain": [
       "['5', '3', '.', '.', '7', '.', '.', '.', '.']"
      ]
     },
     "execution_count": 9,
     "metadata": {},
     "output_type": "execute_result"
    }
   ],
   "source": [
    "arr[t[0]]"
   ]
  },
  {
   "cell_type": "code",
   "execution_count": 10,
   "id": "1c08d13e-99b3-4ab0-acd6-234c9fbe2080",
   "metadata": {},
   "outputs": [
    {
     "name": "stdout",
     "output_type": "stream",
     "text": [
      "3\n",
      ".\n",
      "9\n",
      ".\n",
      ".\n",
      ".\n",
      "6\n",
      ".\n",
      ".\n"
     ]
    }
   ],
   "source": [
    "for p in range(9):\n",
    "    print(arr[p][t[1]]) # This prints columns "
   ]
  },
  {
   "cell_type": "code",
   "execution_count": 268,
   "id": "777b3a03-c8c8-4e24-9dd4-6f0c001b869b",
   "metadata": {},
   "outputs": [
    {
     "data": {
      "text/plain": [
       "array([['5', '3', '!', '!', '7', '!', '!', '!', '!'],\n",
       "       ['6', '!', '!', '1', '9', '5', '!', '!', '!'],\n",
       "       ['!', '9', '8', '7', '!', '!', '5', '6', '!'],\n",
       "       ['8', '!', '!', '!', '6', '!', '!', '!', '3'],\n",
       "       ['4', '!', '!', '8', '!', '3', '!', '!', '1'],\n",
       "       ['7', '!', '3', '3', '2', '!', '!', '!', '6'],\n",
       "       ['!', '6', '7', '7', '!', '!', '2', '8', '!'],\n",
       "       ['!', '!', '!', '4', '1', '9', '!', '!', '5'],\n",
       "       ['!', '!', '!', '!', '8', '!', '5', '7', '9']], dtype='<U1')"
      ]
     },
     "execution_count": 268,
     "metadata": {},
     "output_type": "execute_result"
    }
   ],
   "source": [
    "arr"
   ]
  },
  {
   "cell_type": "code",
   "execution_count": 269,
   "id": "12d4484d-44cc-46e0-8a50-d24dd05eb651",
   "metadata": {},
   "outputs": [],
   "source": [
    "for h in range(num):\n",
    "    for k in range(num):\n",
    "        if arr[h][k] == '!':\n",
    "            arr[h][k] = '.'"
   ]
  },
  {
   "cell_type": "code",
   "execution_count": 270,
   "id": "dc214e23-dfc4-4641-bbc3-690b978b07e2",
   "metadata": {},
   "outputs": [
    {
     "data": {
      "text/plain": [
       "array([['5', '3', '.', '.', '7', '.', '.', '.', '.'],\n",
       "       ['6', '.', '.', '1', '9', '5', '.', '.', '.'],\n",
       "       ['.', '9', '8', '7', '.', '.', '5', '6', '.'],\n",
       "       ['8', '.', '.', '.', '6', '.', '.', '.', '3'],\n",
       "       ['4', '.', '.', '8', '.', '3', '.', '.', '1'],\n",
       "       ['7', '.', '3', '3', '2', '.', '.', '.', '6'],\n",
       "       ['.', '6', '7', '7', '.', '.', '2', '8', '.'],\n",
       "       ['.', '.', '.', '4', '1', '9', '.', '.', '5'],\n",
       "       ['.', '.', '.', '.', '8', '.', '5', '7', '9']], dtype='<U1')"
      ]
     },
     "execution_count": 270,
     "metadata": {},
     "output_type": "execute_result"
    }
   ],
   "source": [
    "arr"
   ]
  },
  {
   "cell_type": "code",
   "execution_count": 301,
   "id": "8eb6e3f6-f3e1-47c2-8b05-649dd22b4eec",
   "metadata": {},
   "outputs": [],
   "source": []
  },
  {
   "cell_type": "code",
   "execution_count": 293,
   "id": "cfe63789-9f6e-4e2b-b1e1-e6eae061d3f8",
   "metadata": {},
   "outputs": [],
   "source": [
    "if str(7) in zone4:\n",
    "    print('true')"
   ]
  },
  {
   "cell_type": "code",
   "execution_count": 291,
   "id": "593758a0-6e9e-4b05-a69b-b164b2c35534",
   "metadata": {},
   "outputs": [
    {
     "data": {
      "text/plain": [
       "array([['9', '6', '4'],\n",
       "       ['8', '5', '3'],\n",
       "       ['3', '2', '8']], dtype='<U1')"
      ]
     },
     "execution_count": 291,
     "metadata": {},
     "output_type": "execute_result"
    }
   ],
   "source": [
    "zone4"
   ]
  },
  {
   "cell_type": "code",
   "execution_count": 330,
   "id": "70720157-a607-44bb-958d-3611b7afa476",
   "metadata": {
    "tags": []
   },
   "outputs": [
    {
     "name": "stdout",
     "output_type": "stream",
     "text": [
      "Wall time: 0 ns\n"
     ]
    }
   ],
   "source": [
    "def SodokuSolver(arr):\n",
    "    num = len(arr)\n",
    "    val = 0\n",
    "\n",
    "    start = time.time()\n",
    "    while '.' in arr:\n",
    "        #print(arr)\n",
    "        #print('*********/n')\n",
    "        for i in range(num):\n",
    "            for j in range(num):\n",
    "                if arr[i][j] != \".\": # If it is a number\n",
    "                    pos = []\n",
    "                    val = arr[i][j] # The Number\n",
    "                    pos.append([i,j]) # The Number's position\n",
    "\n",
    "                    # Now that a number has been found, we want to loop through the entire array again, but this time keep track of any number that matches our chosen number\n",
    "                    # We want to store that number's position in pos.\n",
    "                    for a in range(num):\n",
    "                        for b in range(num):\n",
    "                            if arr[a][b] == val:\n",
    "                                pos.append([a,b])\n",
    "                            # After it has looped through the entire array, it would have found all the numbers similar to our chosen number and appended their positions to our pos array\n",
    "\n",
    "                    # Now we want to off all the row's and columns associated with each position in our pos column by changing all the '.' to '!'\n",
    "                    for c in range(len(pos)):\n",
    "                        value = pos[c] # Save the value of the specific pos Ex. [0,1]\n",
    "                        for d in range(9): # Soduku is a 9 x 9 game. We want to off the ROWS\n",
    "                            if arr[value[0]][d] == '.':\n",
    "                                arr[value[0]][d] = '!'\n",
    "\n",
    "                        for e in range(9):  # This is for the COLUMNS that we will off\n",
    "                            if arr[e][value[1]] == '.':\n",
    "                                arr[e][value[1]] = '!'\n",
    "\n",
    "                    # Now we handle the 8 zones, from Zone 0 to Zone 8 \n",
    "                    ## arr = np.array(arr) # This makes our Zone section so much easier\n",
    "                    zone0 = arr[:3][:,:3] # Zone 0\n",
    "                    zone1 = arr[:3][:,3:6] # Zone 1\n",
    "                    zone2 = arr[:3][:,6:9] # Zone 2\n",
    "                    zone3 = arr[3:6][:,:3] # Zone 3 \n",
    "                    zone4 = arr[3:6][:,3:6] # Zone 4\n",
    "                    zone5 = arr[3:6][:,6:9] # Zone 5\n",
    "                    zone6 = arr[6:9][:,:3] # Zone 6 \n",
    "                    zone7 = arr[6:9][:,3:6] # Zone 7\n",
    "                    zone8 = arr[6:9][:,6:9] # Zone 8 \n",
    "\n",
    "                    zones = np.concatenate([[zone0], [zone1], [zone2], [zone3], [zone4], [zone5], [zone6], [zone7], [zone8]],axis=0) # Combines all the zones, allowing us to loop through them together\n",
    "                    # Rather than looping through them separately\n",
    "\n",
    "\n",
    "\n",
    "                    for zone in range(len(zones)): # Loops through each zone, starting from zone0 \n",
    "\n",
    "                        count = 0 # Measures how many times '.' shows up\n",
    "                        loc = [] # Saves the location of the dots \n",
    "\n",
    "                        for f in range(3):\n",
    "                            for g in range(3): # Each zone is a 3 x 3 matrix\n",
    "                                if zones[zone][f][g] == '.': # zones hold all 9 zones. The [zone] loops on each zone in zones. The [f] loops on the row of each zone. The [g] loops on the column of each zone\n",
    "                                    count +=1\n",
    "                                    loc.append([f,g])\n",
    "\n",
    "\n",
    "                        if count ==1: # Meaning if only 1 '.' was found in a zone\n",
    "                            if str(val) not in zones[zone]: # Making sure we avoid repetition of numbers \n",
    "\n",
    "\n",
    "                                zones[zone][loc[0][0]][loc[0][1]] = val # The loc[0][0] = row location of the '.' loc[0][1] = column location of the '.'. We set the '.' equal to the number\n",
    "\n",
    "                                if zone==0:\n",
    "                                    arr[:3][:,:3] = zones[zone] # We can also zoom in on the specific point using loc[0][0] and loc [0][1]\n",
    "                                elif zone==1:\n",
    "                                    arr[:3][:,3:6] = zones[zone] \n",
    "                                elif zone==2:\n",
    "                                    arr[:3][:,6:9] = zones[zone]\n",
    "                                elif zone==3:\n",
    "                                    arr[3:6][:,:3] = zones[zone]\n",
    "                                elif zone==4:\n",
    "                                    arr[3:6][:,3:6] = zones[zone]\n",
    "                                elif zone==5:\n",
    "                                    arr[3:6][:,6:9] = zones[zone]\n",
    "                                elif zone==6:\n",
    "                                    arr[6:9][:,:3] = zones[zone]\n",
    "                                elif zone==7:\n",
    "                                    arr[6:9][:,3:6] = zones[zone]\n",
    "                                elif zone==8:\n",
    "                                    arr[6:9][:,6:9] = zones[zone]\n",
    "\n",
    "                    # Now that we are done with the zones, we want to change all the '!' back to '.'\n",
    "                    for h in range(num):\n",
    "                        for k in range(num):\n",
    "                            if arr[h][k] == '!':\n",
    "                                arr[h][k] = '.'\n",
    "\n",
    "\n",
    "\n",
    "                    # Before we proceed to repeat the entire process again, there is one last thing \n",
    "                    # In sodoku, if there is 8 numbers in a row or 8 numbers in a column, the last number is given.\n",
    "\n",
    "        '''            li = [1,2,3,4,5,6,7,8,9] # List of all possible numbers\n",
    "\n",
    "                    for x in range(9): # The rows\n",
    "                        counter = 0\n",
    "                        location = []\n",
    "                        for xx in range(9):\n",
    "                            if arr[x][xx] == '.':\n",
    "                                counter +=1\n",
    "                                location.append(xx)\n",
    "\n",
    "                        if counter ==1:\n",
    "                            for ro in li:\n",
    "                                if ro not in arr[x]:\n",
    "                                    arr[x][location[0]] = ro\n",
    "\n",
    "\n",
    "                    for col in range(9): # The columns\n",
    "                        counter = 0\n",
    "                        location = []\n",
    "                        for colx in range(9):\n",
    "                            if arr[:,col:col+1][colx] == '.':\n",
    "                                counter +=1\n",
    "                                location.append(colx)\n",
    "\n",
    "                        if counter ==1:\n",
    "                            for values in li:\n",
    "                                if values not in arr[:,i:i+1]:\n",
    "                                    arr[:,i:i+1][location[0]] = values'''\n",
    "    end = time.time()\n",
    "    \n",
    "    return arr\n"
   ]
  },
  {
   "cell_type": "code",
   "execution_count": 4,
   "id": "871f9278-5086-433f-b6e0-f93ecc87e978",
   "metadata": {},
   "outputs": [
    {
     "name": "stdin",
     "output_type": "stream",
     "text": [
      "continue the code? y/n y\n"
     ]
    },
    {
     "name": "stdout",
     "output_type": "stream",
     "text": [
      "true\n"
     ]
    },
    {
     "name": "stdin",
     "output_type": "stream",
     "text": [
      "continue the code? y/n y\n"
     ]
    },
    {
     "name": "stdout",
     "output_type": "stream",
     "text": [
      "true\n"
     ]
    },
    {
     "name": "stdin",
     "output_type": "stream",
     "text": [
      "continue the code? y/n y\n"
     ]
    },
    {
     "name": "stdout",
     "output_type": "stream",
     "text": [
      "true\n"
     ]
    },
    {
     "name": "stdin",
     "output_type": "stream",
     "text": [
      "continue the code? y/n y\n"
     ]
    },
    {
     "name": "stdout",
     "output_type": "stream",
     "text": [
      "true\n"
     ]
    },
    {
     "name": "stdin",
     "output_type": "stream",
     "text": [
      "continue the code? y/n n\n"
     ]
    }
   ],
   "source": [
    "con = input(\"continue the code? y/n\")\n",
    "while con == 'y':\n",
    "    print(\"true\")\n",
    "    con = input(\"continue the code? y/n\")\n"
   ]
  },
  {
   "cell_type": "code",
   "execution_count": 25,
   "id": "2ceb7e25-913a-4de4-b245-64374c33af3f",
   "metadata": {},
   "outputs": [],
   "source": [
    "def SodokuSolver(arr):\n",
    "    num = len(arr)\n",
    "    val = 0\n",
    "    start = time.time()\n",
    "    while '.' in arr:\n",
    "        num_list = [1,2,3,4,5,6,7,8,9]\n",
    "        for numbers in num_list:\n",
    "            val = numbers\n",
    "            pos = []\n",
    "\n",
    "            # Now that a number has been found, we want to loop through the entire array again, but this time keep track of any number that matches our chosen number\n",
    "            # We want to store that number's position in pos.\n",
    "            for a in range(num):\n",
    "                for b in range(num):\n",
    "                    if arr[a][b] == str(val):\n",
    "                        pos.append([a,b])\n",
    "                    # After it has looped through the entire array, it would have found all the numbers similar to our chosen number and appended their positions to our pos array\n",
    "            # Now we want to off all the row's and columns associated with each position in our pos column by changing all the '.' to '!'\n",
    "            for c in range(len(pos)):\n",
    "                value = pos[c] # Save the value of the specific pos Ex. [0,1]\n",
    "                for d in range(9): # Soduku is a 9 x 9 game. We want to off the ROWS\n",
    "                    if arr[value[0]][d] == '.':\n",
    "                        arr[value[0]][d] = '!'\n",
    "\n",
    "                for e in range(9):  # This is for the COLUMNS that we will off\n",
    "                    if arr[e][value[1]] == '.':\n",
    "                        arr[e][value[1]] = '!'\n",
    "                        \n",
    "            # Now we handle the 8 zones, from Zone 0 to Zone 8 \n",
    "            ## arr = np.array(arr) # This makes our Zone section so much easier\n",
    "            zone0 = arr[:3][:,:3] # Zone 0\n",
    "            zone1 = arr[:3][:,3:6] # Zone 1\n",
    "            zone2 = arr[:3][:,6:9] # Zone 2\n",
    "            zone3 = arr[3:6][:,:3] # Zone 3 \n",
    "            zone4 = arr[3:6][:,3:6] # Zone 4\n",
    "            zone5 = arr[3:6][:,6:9] # Zone 5\n",
    "            zone6 = arr[6:9][:,:3] # Zone 6 \n",
    "            zone7 = arr[6:9][:,3:6] # Zone 7\n",
    "            zone8 = arr[6:9][:,6:9] # Zone 8 \n",
    "\n",
    "            zones = np.concatenate([[zone0], [zone1], [zone2], [zone3], [zone4], [zone5], [zone6], [zone7], [zone8]],axis=0) # Combines all the zones, allowing us to loop through them together\n",
    "            # Rather than looping through them separately\n",
    "\n",
    "\n",
    "\n",
    "            for zone in range(len(zones)): # Loops through each zone, starting from zone0 \n",
    "\n",
    "                count = 0 # Measures how many times '.' shows up\n",
    "                loc = [] # Saves the location of the dots \n",
    "\n",
    "                for f in range(3):\n",
    "                    for g in range(3): # Each zone is a 3 x 3 matrix\n",
    "                        if zones[zone][f][g] == '.': # zones hold all 9 zones. The [zone] loops on each zone in zones. The [f] loops on the row of each zone. The [g] loops on the column of each zone\n",
    "                            count +=1\n",
    "                            loc.append([f,g])\n",
    "\n",
    "\n",
    "                if count ==1: # Meaning if only 1 '.' was found in a zone\n",
    "                    if str(val) not in zones[zone]: # Making sure we avoid repetition of numbers \n",
    "\n",
    "\n",
    "                        zones[zone][loc[0][0]][loc[0][1]] = val # The loc[0][0] = row location of the '.' loc[0][1] = column location of the '.'. We set the '.' equal to the number\n",
    "\n",
    "                        if zone==0:\n",
    "                            arr[:3][:,:3] = zones[zone] # We can also zoom in on the specific point using loc[0][0] and loc [0][1]\n",
    "                        elif zone==1:\n",
    "                            arr[:3][:,3:6] = zones[zone] \n",
    "                        elif zone==2:\n",
    "                            arr[:3][:,6:9] = zones[zone]\n",
    "                        elif zone==3:\n",
    "                            arr[3:6][:,:3] = zones[zone]\n",
    "                        elif zone==4:\n",
    "                            arr[3:6][:,3:6] = zones[zone]\n",
    "                        elif zone==5:\n",
    "                            arr[3:6][:,6:9] = zones[zone]\n",
    "                        elif zone==6:\n",
    "                            arr[6:9][:,:3] = zones[zone]\n",
    "                        elif zone==7:\n",
    "                            arr[6:9][:,3:6] = zones[zone]\n",
    "                        elif zone==8:\n",
    "                            arr[6:9][:,6:9] = zones[zone]\n",
    "\n",
    "            # Now that we are done with the zones, we want to change all the '!' back to '.'\n",
    "            for h in range(num):\n",
    "                for k in range(num):\n",
    "                    if arr[h][k] == '!':\n",
    "                        arr[h][k] = '.'\n",
    "\n",
    "            \n",
    "\n",
    "                    # Before we proceed to repeat the entire process again, there is one last thing \n",
    "                    # In sodoku, if there is 8 numbers in a row or 8 numbers in a column, the last number is given.\n",
    "\n",
    "    end = time.time()\n",
    "    \n",
    "    return arr\n"
   ]
  },
  {
   "cell_type": "code",
   "execution_count": 35,
   "id": "3625f64d-0c72-4d3e-8324-c848dd6ad198",
   "metadata": {},
   "outputs": [],
   "source": [
    "arr = [[\"5\",\"3\",\".\",\".\",\"7\",\".\",\".\",\".\",\".\"],\n",
    "       [\"6\",\".\",\".\",\"1\",\"9\",\"5\",\".\",\".\",\".\"],\n",
    "       [\".\",\"9\",\"8\",\".\",\".\",\".\",\".\",\"6\",\".\"],\n",
    "       [\"8\",\".\",\".\",\".\",\"6\",\".\",\".\",\".\",\"3\"],\n",
    "       [\"4\",\".\",\".\",\"8\",\".\",\"3\",\".\",\".\",\"1\"],\n",
    "       [\"7\",\".\",\".\",\".\",\"2\",\".\",\".\",\".\",\"6\"],\n",
    "       [\".\",\"6\",\".\",\".\",\".\",\".\",\"2\",\"8\",\".\"],\n",
    "       [\".\",\".\",\".\",\"4\",\"1\",\"9\",\".\",\".\",\"5\"],\n",
    "       [\".\",\".\",\".\",\".\",\"8\",\".\",\".\",\"7\",\"9\"]]\n",
    "arr = np.array(arr)"
   ]
  },
  {
   "cell_type": "code",
   "execution_count": 36,
   "id": "03d56dbd-0337-4954-8215-ff8154d76def",
   "metadata": {
    "tags": []
   },
   "outputs": [
    {
     "name": "stdout",
     "output_type": "stream",
     "text": [
      "Wall time: 26.9 ms\n"
     ]
    },
    {
     "data": {
      "text/plain": [
       "array([['5', '3', '4', '6', '7', '8', '9', '1', '2'],\n",
       "       ['6', '7', '2', '1', '9', '5', '3', '4', '8'],\n",
       "       ['1', '9', '8', '3', '4', '2', '5', '6', '7'],\n",
       "       ['8', '5', '9', '7', '6', '1', '4', '2', '3'],\n",
       "       ['4', '2', '6', '8', '5', '3', '7', '9', '1'],\n",
       "       ['7', '1', '3', '9', '2', '4', '8', '5', '6'],\n",
       "       ['9', '6', '1', '5', '3', '7', '2', '8', '4'],\n",
       "       ['2', '8', '7', '4', '1', '9', '6', '3', '5'],\n",
       "       ['3', '4', '5', '2', '8', '6', '1', '7', '9']], dtype='<U1')"
      ]
     },
     "execution_count": 36,
     "metadata": {},
     "output_type": "execute_result"
    }
   ],
   "source": [
    "%%time\n",
    "SodokuSolver(arr)"
   ]
  },
  {
   "cell_type": "code",
   "execution_count": 32,
   "id": "201203e7-407b-4938-949f-76e02618bd3d",
   "metadata": {},
   "outputs": [
    {
     "data": {
      "text/plain": [
       "array([['.', '.', '.', '.', '.', '1', '.', '.', '6'],\n",
       "       ['2', '.', '7', '.', '.', '.', '8', '.', '.'],\n",
       "       ['.', '.', '8', '9', '.', '.', '.', '.', '.'],\n",
       "       ['.', '6', '5', '.', '.', '8', '2', '.', '.'],\n",
       "       ['.', '.', '.', '1', '5', '.', '.', '9', '.'],\n",
       "       ['8', '.', '.', '.', '.', '7', '.', '.', '3'],\n",
       "       ['.', '.', '.', '.', '7', '.', '.', '.', '4'],\n",
       "       ['.', '2', '.', '.', '.', '6', '.', '.', '.'],\n",
       "       ['.', '9', '.', '.', '.', '.', '.', '.', '.']], dtype='<U1')"
      ]
     },
     "execution_count": 32,
     "metadata": {},
     "output_type": "execute_result"
    }
   ],
   "source": [
    "arr = [[\".\",\".\",\".\",\".\",\".\",\"1\",\".\",\".\",\"6\"],\n",
    "       [\"2\",\".\",\"7\",\".\",\".\",\".\",\"8\",\".\",\".\"],\n",
    "       [\".\",\".\",\"8\",\"9\",\".\",\".\",\".\",\".\",\".\"],\n",
    "       [\".\",\"6\",\"5\",\".\",\".\",\"8\",\"2\",\".\",\".\"],\n",
    "       [\".\",\".\",\".\",\"1\",\"5\",\".\",\".\",\"9\",\".\"],\n",
    "       [\"8\",\".\",\".\",\".\",\".\",\"7\",\".\",\".\",\"3\"],\n",
    "       [\".\",\".\",\".\",\".\",\"7\",\".\",\".\",\".\",\"4\"],\n",
    "       [\".\",\"2\",\".\",\".\",\".\",\"6\",\".\",\".\",\".\"],\n",
    "       [\".\",\"9\",\".\",\".\",\".\",\".\",\".\",\".\",\".\"]]\n",
    "arr = np.array(arr)\n",
    "arr"
   ]
  },
  {
   "cell_type": "code",
   "execution_count": 33,
   "id": "a92f2ce3-f44e-4d58-b163-0718545c4574",
   "metadata": {},
   "outputs": [
    {
     "ename": "KeyboardInterrupt",
     "evalue": "",
     "output_type": "error",
     "traceback": [
      "\u001b[1;31m---------------------------------------------------------------------------\u001b[0m",
      "\u001b[1;31mKeyboardInterrupt\u001b[0m                         Traceback (most recent call last)",
      "\u001b[1;32m<timed eval>\u001b[0m in \u001b[0;36m<module>\u001b[1;34m\u001b[0m\n",
      "\u001b[1;32m<ipython-input-25-a2b961fe8dd5>\u001b[0m in \u001b[0;36mSodokuSolver\u001b[1;34m(arr)\u001b[0m\n\u001b[0;32m     39\u001b[0m             \u001b[0mzone8\u001b[0m \u001b[1;33m=\u001b[0m \u001b[0marr\u001b[0m\u001b[1;33m[\u001b[0m\u001b[1;36m6\u001b[0m\u001b[1;33m:\u001b[0m\u001b[1;36m9\u001b[0m\u001b[1;33m]\u001b[0m\u001b[1;33m[\u001b[0m\u001b[1;33m:\u001b[0m\u001b[1;33m,\u001b[0m\u001b[1;36m6\u001b[0m\u001b[1;33m:\u001b[0m\u001b[1;36m9\u001b[0m\u001b[1;33m]\u001b[0m \u001b[1;31m# Zone 8\u001b[0m\u001b[1;33m\u001b[0m\u001b[1;33m\u001b[0m\u001b[0m\n\u001b[0;32m     40\u001b[0m \u001b[1;33m\u001b[0m\u001b[0m\n\u001b[1;32m---> 41\u001b[1;33m             \u001b[0mzones\u001b[0m \u001b[1;33m=\u001b[0m \u001b[0mnp\u001b[0m\u001b[1;33m.\u001b[0m\u001b[0mconcatenate\u001b[0m\u001b[1;33m(\u001b[0m\u001b[1;33m[\u001b[0m\u001b[1;33m[\u001b[0m\u001b[0mzone0\u001b[0m\u001b[1;33m]\u001b[0m\u001b[1;33m,\u001b[0m \u001b[1;33m[\u001b[0m\u001b[0mzone1\u001b[0m\u001b[1;33m]\u001b[0m\u001b[1;33m,\u001b[0m \u001b[1;33m[\u001b[0m\u001b[0mzone2\u001b[0m\u001b[1;33m]\u001b[0m\u001b[1;33m,\u001b[0m \u001b[1;33m[\u001b[0m\u001b[0mzone3\u001b[0m\u001b[1;33m]\u001b[0m\u001b[1;33m,\u001b[0m \u001b[1;33m[\u001b[0m\u001b[0mzone4\u001b[0m\u001b[1;33m]\u001b[0m\u001b[1;33m,\u001b[0m \u001b[1;33m[\u001b[0m\u001b[0mzone5\u001b[0m\u001b[1;33m]\u001b[0m\u001b[1;33m,\u001b[0m \u001b[1;33m[\u001b[0m\u001b[0mzone6\u001b[0m\u001b[1;33m]\u001b[0m\u001b[1;33m,\u001b[0m \u001b[1;33m[\u001b[0m\u001b[0mzone7\u001b[0m\u001b[1;33m]\u001b[0m\u001b[1;33m,\u001b[0m \u001b[1;33m[\u001b[0m\u001b[0mzone8\u001b[0m\u001b[1;33m]\u001b[0m\u001b[1;33m]\u001b[0m\u001b[1;33m,\u001b[0m\u001b[0maxis\u001b[0m\u001b[1;33m=\u001b[0m\u001b[1;36m0\u001b[0m\u001b[1;33m)\u001b[0m \u001b[1;31m# Combines all the zones, allowing us to loop through them together\u001b[0m\u001b[1;33m\u001b[0m\u001b[1;33m\u001b[0m\u001b[0m\n\u001b[0m\u001b[0;32m     42\u001b[0m             \u001b[1;31m# Rather than looping through them separately\u001b[0m\u001b[1;33m\u001b[0m\u001b[1;33m\u001b[0m\u001b[1;33m\u001b[0m\u001b[0m\n\u001b[0;32m     43\u001b[0m \u001b[1;33m\u001b[0m\u001b[0m\n",
      "\u001b[1;32m<__array_function__ internals>\u001b[0m in \u001b[0;36mconcatenate\u001b[1;34m(*args, **kwargs)\u001b[0m\n",
      "\u001b[1;31mKeyboardInterrupt\u001b[0m: "
     ]
    }
   ],
   "source": [
    "%%time\n",
    "SodokuSolver(arr)"
   ]
  },
  {
   "cell_type": "code",
   "execution_count": 34,
   "id": "343fae3e-7766-4f2c-ac16-eefc1fd87898",
   "metadata": {},
   "outputs": [
    {
     "data": {
      "text/plain": [
       "array([['!', '!', '.', '7', '8', '1', '!', '.', '6'],\n",
       "       ['2', '!', '7', '!', '!', '!', '8', '!', '!'],\n",
       "       ['6', '!', '8', '9', '.', '.', '!', '.', '.'],\n",
       "       ['!', '6', '5', '!', '!', '8', '2', '!', '!'],\n",
       "       ['!', '!', '.', '1', '5', '.', '!', '9', '8'],\n",
       "       ['8', '!', '.', '.', '.', '7', '!', '.', '3'],\n",
       "       ['!', '8', '.', '.', '7', '.', '!', '.', '4'],\n",
       "       ['!', '2', '!', '!', '!', '6', '!', '!', '!'],\n",
       "       ['!', '9', '.', '.', '.', '.', '!', '.', '.']], dtype='<U1')"
      ]
     },
     "execution_count": 34,
     "metadata": {},
     "output_type": "execute_result"
    }
   ],
   "source": [
    "arr"
   ]
  },
  {
   "cell_type": "code",
   "execution_count": 213,
   "id": "b052531e-7015-4a02-9c7c-f471a81a7d6d",
   "metadata": {
    "collapsed": true,
    "jupyter": {
     "outputs_hidden": true
    },
    "tags": []
   },
   "outputs": [
    {
     "name": "stdout",
     "output_type": "stream",
     "text": [
      "New column\n",
      "['5']\n",
      "********\n",
      "['6']\n",
      "********\n",
      "['.']\n",
      "DOT found \n",
      "********\n",
      "['8']\n",
      "********\n",
      "['4']\n",
      "********\n",
      "['7']\n",
      "********\n",
      "['.']\n",
      "DOT found \n",
      "********\n",
      "['.']\n",
      "DOT found \n",
      "********\n",
      "['.']\n",
      "DOT found \n",
      "********\n",
      "New column\n",
      "['3']\n",
      "********\n",
      "['.']\n",
      "DOT found \n",
      "********\n",
      "['9']\n",
      "********\n",
      "['.']\n",
      "DOT found \n",
      "********\n",
      "['.']\n",
      "DOT found \n",
      "********\n",
      "['.']\n",
      "DOT found \n",
      "********\n",
      "['6']\n",
      "********\n",
      "['.']\n",
      "DOT found \n",
      "********\n",
      "['.']\n",
      "DOT found \n",
      "********\n",
      "New column\n",
      "['.']\n",
      "DOT found \n",
      "********\n",
      "['.']\n",
      "DOT found \n",
      "********\n",
      "['8']\n",
      "********\n",
      "['.']\n",
      "DOT found \n",
      "********\n",
      "['.']\n",
      "DOT found \n",
      "********\n",
      "['.']\n",
      "DOT found \n",
      "********\n",
      "['.']\n",
      "DOT found \n",
      "********\n",
      "['.']\n",
      "DOT found \n",
      "********\n",
      "['.']\n",
      "DOT found \n",
      "********\n",
      "New column\n",
      "['.']\n",
      "DOT found \n",
      "********\n",
      "['1']\n",
      "********\n",
      "['.']\n",
      "DOT found \n",
      "********\n",
      "['.']\n",
      "DOT found \n",
      "********\n",
      "['8']\n",
      "********\n",
      "['.']\n",
      "DOT found \n",
      "********\n",
      "['.']\n",
      "DOT found \n",
      "********\n",
      "['4']\n",
      "********\n",
      "['.']\n",
      "DOT found \n",
      "********\n",
      "New column\n",
      "['6']\n",
      "********\n",
      "['9']\n",
      "********\n",
      "['.']\n",
      "DOT found \n",
      "********\n",
      "['6']\n",
      "********\n",
      "['.']\n",
      "DOT found \n",
      "********\n",
      "['2']\n",
      "********\n",
      "['.']\n",
      "DOT found \n",
      "********\n",
      "['1']\n",
      "********\n",
      "['8']\n",
      "********\n",
      "New column\n",
      "['.']\n",
      "DOT found \n",
      "********\n",
      "['5']\n",
      "********\n",
      "['.']\n",
      "DOT found \n",
      "********\n",
      "['.']\n",
      "DOT found \n",
      "********\n",
      "['3']\n",
      "********\n",
      "['.']\n",
      "DOT found \n",
      "********\n",
      "['.']\n",
      "DOT found \n",
      "********\n",
      "['9']\n",
      "********\n",
      "['.']\n",
      "DOT found \n",
      "********\n",
      "New column\n",
      "['.']\n",
      "DOT found \n",
      "********\n",
      "['.']\n",
      "DOT found \n",
      "********\n",
      "['.']\n",
      "DOT found \n",
      "********\n",
      "['.']\n",
      "DOT found \n",
      "********\n",
      "['.']\n",
      "DOT found \n",
      "********\n",
      "['.']\n",
      "DOT found \n",
      "********\n",
      "['2']\n",
      "********\n",
      "['.']\n",
      "DOT found \n",
      "********\n",
      "['.']\n",
      "DOT found \n",
      "********\n",
      "New column\n",
      "['.']\n",
      "DOT found \n",
      "********\n",
      "['.']\n",
      "DOT found \n",
      "********\n",
      "['6']\n",
      "********\n",
      "['.']\n",
      "DOT found \n",
      "********\n",
      "['.']\n",
      "DOT found \n",
      "********\n",
      "['.']\n",
      "DOT found \n",
      "********\n",
      "['8']\n",
      "********\n",
      "['.']\n",
      "DOT found \n",
      "********\n",
      "['7']\n",
      "********\n",
      "New column\n",
      "['.']\n",
      "DOT found \n",
      "********\n",
      "['.']\n",
      "DOT found \n",
      "********\n",
      "['.']\n",
      "DOT found \n",
      "********\n",
      "['3']\n",
      "********\n",
      "['1']\n",
      "********\n",
      "['6']\n",
      "********\n",
      "['.']\n",
      "DOT found \n",
      "********\n",
      "['5']\n",
      "********\n",
      "['9']\n",
      "********\n"
     ]
    }
   ],
   "source": [
    "for i in range(9):\n",
    "    print(\"New column\")\n",
    "    \n",
    "    for j in range(9):\n",
    "        print(arr[:,i:i+1][j])\n",
    "        if arr[:,i:i+1][j] == '.':\n",
    "            print(\"DOT found \")\n",
    "        print(\"********\")\n",
    "    "
   ]
  },
  {
   "cell_type": "code",
   "execution_count": 223,
   "id": "af31648b-5708-4efb-a902-ec460847bcc9",
   "metadata": {},
   "outputs": [
    {
     "data": {
      "text/plain": [
       "array([['5', '3', '.', '.', '7', '.', '.', '.', '.'],\n",
       "       ['6', '.', '.', '1', '9', '5', '.', '.', '.'],\n",
       "       ['.', '9', '8', '.', '.', '.', '.', '6', '.'],\n",
       "       ['8', '.', '.', '.', '6', '.', '.', '.', '3'],\n",
       "       ['4', '.', '.', '8', '.', '3', '.', '.', '1'],\n",
       "       ['7', '.', '.', '.', '2', '.', '.', '.', '6'],\n",
       "       ['.', '6', '.', '.', '.', '.', '2', '8', '.'],\n",
       "       ['.', '.', '.', '4', '1', '9', '.', '.', '5'],\n",
       "       ['.', '.', '.', '.', '8', '.', '.', '7', '9']], dtype='<U1')"
      ]
     },
     "execution_count": 223,
     "metadata": {},
     "output_type": "execute_result"
    }
   ],
   "source": [
    "lol = []\n",
    "lol.append(0)\n",
    "lol\n",
    "arr[lol[0]]"
   ]
  },
  {
   "cell_type": "code",
   "execution_count": 180,
   "id": "094e8aa6-c13e-4126-b0c4-fcdc17fe2936",
   "metadata": {
    "collapsed": true,
    "jupyter": {
     "outputs_hidden": true
    },
    "tags": []
   },
   "outputs": [
    {
     "name": "stdout",
     "output_type": "stream",
     "text": [
      "['5' '3' '.' '.' '6' '.' '.' '.' '.']\n",
      "******\n",
      "5\n",
      "3\n",
      ".\n",
      ".\n",
      "6\n",
      ".\n",
      ".\n",
      ".\n",
      ".\n",
      "['6' '.' '.' '1' '9' '5' '.' '.' '.']\n",
      "******\n",
      "6\n",
      ".\n",
      ".\n",
      "1\n",
      "9\n",
      "5\n",
      ".\n",
      ".\n",
      ".\n",
      "['.' '9' '8' '.' '.' '.' '.' '6' '.']\n",
      "******\n",
      ".\n",
      "9\n",
      "8\n",
      ".\n",
      ".\n",
      ".\n",
      ".\n",
      "6\n",
      ".\n",
      "['8' '.' '.' '.' '6' '.' '.' '.' '3']\n",
      "******\n",
      "8\n",
      ".\n",
      ".\n",
      ".\n",
      "6\n",
      ".\n",
      ".\n",
      ".\n",
      "3\n",
      "['4' '.' '.' '8' '.' '3' '.' '.' '1']\n",
      "******\n",
      "4\n",
      ".\n",
      ".\n",
      "8\n",
      ".\n",
      "3\n",
      ".\n",
      ".\n",
      "1\n",
      "['7' '.' '.' '.' '2' '.' '.' '.' '6']\n",
      "******\n",
      "7\n",
      ".\n",
      ".\n",
      ".\n",
      "2\n",
      ".\n",
      ".\n",
      ".\n",
      "6\n",
      "['.' '6' '.' '.' '.' '.' '2' '8' '.']\n",
      "******\n",
      ".\n",
      "6\n",
      ".\n",
      ".\n",
      ".\n",
      ".\n",
      "2\n",
      "8\n",
      ".\n",
      "['.' '.' '.' '4' '1' '9' '.' '.' '5']\n",
      "******\n",
      ".\n",
      ".\n",
      ".\n",
      "4\n",
      "1\n",
      "9\n",
      ".\n",
      ".\n",
      "5\n",
      "['.' '.' '.' '.' '8' '.' '.' '7' '9']\n",
      "******\n",
      ".\n",
      ".\n",
      ".\n",
      ".\n",
      "8\n",
      ".\n",
      ".\n",
      "7\n",
      "9\n"
     ]
    }
   ],
   "source": [
    "for x in range(9):\n",
    "    print(arr[x])\n",
    "    print(\"******\")\n",
    "    for xx in range(9):\n",
    "        print(arr[x][xx])"
   ]
  },
  {
   "cell_type": "code",
   "execution_count": null,
   "id": "85d515be-411e-4af4-9648-3284f1c7b470",
   "metadata": {},
   "outputs": [],
   "source": []
  },
  {
   "cell_type": "code",
   "execution_count": 175,
   "id": "0d6ceb2b-9006-420f-83f2-501fae6a99c3",
   "metadata": {
    "collapsed": true,
    "jupyter": {
     "outputs_hidden": true
    },
    "tags": []
   },
   "outputs": [
    {
     "name": "stdout",
     "output_type": "stream",
     "text": [
      "['5' '3' '.' '.' '6' '.' '.' '.' '.']\n",
      "5\n",
      "3\n",
      ".\n",
      ".\n",
      "6\n",
      ".\n",
      ".\n",
      ".\n",
      ".\n",
      "['6' '.' '.' '1' '9' '5' '.' '.' '.']\n",
      "6\n",
      ".\n",
      ".\n",
      "1\n",
      "9\n",
      "5\n",
      ".\n",
      ".\n",
      ".\n",
      "['.' '9' '8' '.' '.' '.' '.' '6' '.']\n",
      ".\n",
      "9\n",
      "8\n",
      ".\n",
      ".\n",
      ".\n",
      ".\n",
      "6\n",
      ".\n",
      "['8' '.' '.' '.' '6' '.' '.' '.' '3']\n",
      "8\n",
      ".\n",
      ".\n",
      ".\n",
      "6\n",
      ".\n",
      ".\n",
      ".\n",
      "3\n",
      "['4' '.' '.' '8' '.' '3' '.' '.' '1']\n",
      "4\n",
      ".\n",
      ".\n",
      "8\n",
      ".\n",
      "3\n",
      ".\n",
      ".\n",
      "1\n",
      "['7' '.' '.' '.' '2' '.' '.' '.' '6']\n",
      "7\n",
      ".\n",
      ".\n",
      ".\n",
      "2\n",
      ".\n",
      ".\n",
      ".\n",
      "6\n",
      "['.' '6' '.' '.' '.' '.' '2' '8' '.']\n",
      ".\n",
      "6\n",
      ".\n",
      ".\n",
      ".\n",
      ".\n",
      "2\n",
      "8\n",
      ".\n",
      "['.' '.' '.' '4' '1' '9' '.' '.' '5']\n",
      ".\n",
      ".\n",
      ".\n",
      "4\n",
      "1\n",
      "9\n",
      ".\n",
      ".\n",
      "5\n",
      "['.' '.' '.' '.' '8' '.' '.' '7' '9']\n",
      ".\n",
      ".\n",
      ".\n",
      ".\n",
      "8\n",
      ".\n",
      ".\n",
      "7\n",
      "9\n"
     ]
    }
   ],
   "source": [
    "for x in arr:\n",
    "    print(x)\n",
    "    for xx in x:\n",
    "        print(xx)\n",
    "        "
   ]
  },
  {
   "cell_type": "code",
   "execution_count": 161,
   "id": "b81ff03d-3bcf-4cfb-99a2-1cd1b9307c3f",
   "metadata": {},
   "outputs": [
    {
     "data": {
      "text/plain": [
       "'.'"
      ]
     },
     "execution_count": 161,
     "metadata": {},
     "output_type": "execute_result"
    }
   ],
   "source": [
    "t[0][val[0][0]][val[0][1]]"
   ]
  },
  {
   "cell_type": "code",
   "execution_count": 159,
   "id": "39586905-a493-4e4f-b57f-2cb590e85f14",
   "metadata": {},
   "outputs": [],
   "source": [
    "val = []\n",
    "val.append([0,2])"
   ]
  },
  {
   "cell_type": "code",
   "execution_count": 156,
   "id": "626449ac-0174-4ea3-9613-2c963c7037b8",
   "metadata": {},
   "outputs": [
    {
     "data": {
      "text/plain": [
       "[2, 3]"
      ]
     },
     "execution_count": 156,
     "metadata": {},
     "output_type": "execute_result"
    }
   ],
   "source": [
    "val[0]"
   ]
  },
  {
   "cell_type": "code",
   "execution_count": 66,
   "id": "9892f928-d5ac-43d3-bf42-d1d33917b299",
   "metadata": {},
   "outputs": [],
   "source": [
    "p = np.array(arr)"
   ]
  },
  {
   "cell_type": "code",
   "execution_count": 81,
   "id": "4ba75fc9-9ef8-48eb-93c5-960c2a322751",
   "metadata": {},
   "outputs": [
    {
     "data": {
      "text/plain": [
       "array([['5', '3', '.', '.', '7', '.', '.', '.', '.'],\n",
       "       ['6', '.', '.', '1', '9', '5', '.', '.', '.'],\n",
       "       ['.', '9', '8', '.', '.', '.', '.', '6', '.'],\n",
       "       ['8', '.', '.', '.', '6', '.', '.', '.', '3'],\n",
       "       ['4', '.', '.', '8', '.', '3', '.', '.', '1'],\n",
       "       ['7', '.', '.', '.', '2', '.', '.', '.', '6'],\n",
       "       ['.', '6', '.', '.', '.', '.', '2', '8', '.'],\n",
       "       ['.', '.', '.', '4', '1', '9', '.', '.', '5'],\n",
       "       ['.', '.', '.', '.', '8', '.', '.', '7', '9']], dtype='<U1')"
      ]
     },
     "execution_count": 81,
     "metadata": {},
     "output_type": "execute_result"
    }
   ],
   "source": [
    "arr"
   ]
  },
  {
   "cell_type": "code",
   "execution_count": 96,
   "id": "529d9d18-0e6e-4c40-a74a-a60d4555953f",
   "metadata": {
    "tags": []
   },
   "outputs": [],
   "source": [
    "lol = arr[:3][:,:3] # Zone 0"
   ]
  },
  {
   "cell_type": "code",
   "execution_count": 101,
   "id": "3ba9fa82-7302-4d73-9ba9-e8ff150ffed4",
   "metadata": {},
   "outputs": [
    {
     "name": "stdout",
     "output_type": "stream",
     "text": [
      "5\n",
      "3\n",
      ".\n",
      "6\n",
      ".\n",
      ".\n",
      ".\n",
      "9\n",
      "8\n",
      "Count: 4\n"
     ]
    }
   ],
   "source": [
    "count = 0\n",
    "for i in range(3):\n",
    "    for j in range(3):\n",
    "        print(lol[i][j])\n",
    "        if lol[i][j] == '.':\n",
    "            count +=1\n",
    "print(\"Count:\",count)\n",
    "# if count ==1: replace with num "
   ]
  },
  {
   "cell_type": "code",
   "execution_count": 85,
   "id": "e4f7eb05-804a-4f0d-bf12-59fc976eebfd",
   "metadata": {},
   "outputs": [
    {
     "data": {
      "text/plain": [
       "array([['.', '7', '.'],\n",
       "       ['1', '9', '5'],\n",
       "       ['.', '.', '.']], dtype='<U1')"
      ]
     },
     "execution_count": 85,
     "metadata": {},
     "output_type": "execute_result"
    }
   ],
   "source": [
    "arr[:3][:,3:6] # Zone 1"
   ]
  },
  {
   "cell_type": "code",
   "execution_count": 86,
   "id": "aa4e8013-585a-4aa4-86c9-38e6f5fb7dda",
   "metadata": {},
   "outputs": [
    {
     "data": {
      "text/plain": [
       "array([['.', '.', '.'],\n",
       "       ['.', '.', '.'],\n",
       "       ['.', '6', '.']], dtype='<U1')"
      ]
     },
     "execution_count": 86,
     "metadata": {},
     "output_type": "execute_result"
    }
   ],
   "source": [
    "arr[:3][:,6:9] # Zone 2"
   ]
  },
  {
   "cell_type": "code",
   "execution_count": 89,
   "id": "61efb89c-69f5-49db-b4c2-e6c6dbfc7cbf",
   "metadata": {},
   "outputs": [
    {
     "data": {
      "text/plain": [
       "array([['8', '.', '.'],\n",
       "       ['4', '.', '.'],\n",
       "       ['7', '.', '.']], dtype='<U1')"
      ]
     },
     "execution_count": 89,
     "metadata": {},
     "output_type": "execute_result"
    }
   ],
   "source": [
    "arr[3:6][:,:3] # Zone 3 "
   ]
  },
  {
   "cell_type": "code",
   "execution_count": 90,
   "id": "ba0dfa28-3f8a-425e-b407-4486767e4bd3",
   "metadata": {},
   "outputs": [
    {
     "data": {
      "text/plain": [
       "array([['.', '6', '.'],\n",
       "       ['8', '.', '3'],\n",
       "       ['.', '2', '.']], dtype='<U1')"
      ]
     },
     "execution_count": 90,
     "metadata": {},
     "output_type": "execute_result"
    }
   ],
   "source": [
    "arr[3:6][:,3:6] # Zone 4"
   ]
  },
  {
   "cell_type": "code",
   "execution_count": 91,
   "id": "d2ee62d0-4a7e-4bad-b271-296d11c9532b",
   "metadata": {},
   "outputs": [
    {
     "data": {
      "text/plain": [
       "array([['.', '.', '3'],\n",
       "       ['.', '.', '1'],\n",
       "       ['.', '.', '6']], dtype='<U1')"
      ]
     },
     "execution_count": 91,
     "metadata": {},
     "output_type": "execute_result"
    }
   ],
   "source": [
    "arr[3:6][:,6:9] # Zone 5"
   ]
  },
  {
   "cell_type": "code",
   "execution_count": 93,
   "id": "0b687d55-0012-4acf-9ea7-80a56a01eacd",
   "metadata": {},
   "outputs": [
    {
     "data": {
      "text/plain": [
       "array([['.', '6', '.'],\n",
       "       ['.', '.', '.'],\n",
       "       ['.', '.', '.']], dtype='<U1')"
      ]
     },
     "execution_count": 93,
     "metadata": {},
     "output_type": "execute_result"
    }
   ],
   "source": [
    "arr[6:9][:,:3] # Zone 6 "
   ]
  },
  {
   "cell_type": "code",
   "execution_count": 94,
   "id": "663d6ff2-4d84-4702-b59c-be6a2c98251e",
   "metadata": {},
   "outputs": [
    {
     "data": {
      "text/plain": [
       "array([['.', '.', '.'],\n",
       "       ['4', '1', '9'],\n",
       "       ['.', '8', '.']], dtype='<U1')"
      ]
     },
     "execution_count": 94,
     "metadata": {},
     "output_type": "execute_result"
    }
   ],
   "source": [
    "arr[6:9][:,3:6] # Zone 7"
   ]
  },
  {
   "cell_type": "code",
   "execution_count": 95,
   "id": "d9205918-7960-4be4-b405-53f6884d7744",
   "metadata": {},
   "outputs": [
    {
     "data": {
      "text/plain": [
       "array([['2', '8', '.'],\n",
       "       ['.', '.', '5'],\n",
       "       ['.', '7', '9']], dtype='<U1')"
      ]
     },
     "execution_count": 95,
     "metadata": {},
     "output_type": "execute_result"
    }
   ],
   "source": [
    "arr[6:9][:,6:9] # Zone 8 "
   ]
  },
  {
   "cell_type": "code",
   "execution_count": 26,
   "id": "68235e1c-9c92-4328-8119-069eb71617c3",
   "metadata": {
    "collapsed": true,
    "jupyter": {
     "outputs_hidden": true
    },
    "tags": []
   },
   "outputs": [
    {
     "name": "stdout",
     "output_type": "stream",
     "text": [
      "*****\n",
      "5\n",
      "3\n",
      ".\n",
      ".\n",
      "7\n",
      ".\n",
      ".\n",
      ".\n",
      ".\n",
      "*****\n",
      "6\n",
      ".\n",
      ".\n",
      "1\n",
      "9\n",
      "5\n",
      ".\n",
      ".\n",
      ".\n",
      "*****\n",
      ".\n",
      "9\n",
      "8\n",
      ".\n",
      ".\n",
      ".\n",
      ".\n",
      "6\n",
      ".\n",
      "*****\n",
      "8\n",
      ".\n",
      ".\n",
      ".\n",
      "6\n",
      ".\n",
      ".\n",
      ".\n",
      "3\n",
      "*****\n",
      "4\n",
      ".\n",
      ".\n",
      "8\n",
      ".\n",
      "3\n",
      ".\n",
      ".\n",
      "1\n",
      "*****\n",
      "7\n",
      ".\n",
      ".\n",
      ".\n",
      "2\n",
      ".\n",
      ".\n",
      ".\n",
      "6\n",
      "*****\n",
      ".\n",
      "6\n",
      ".\n",
      ".\n",
      ".\n",
      ".\n",
      "2\n",
      "8\n",
      ".\n",
      "*****\n",
      ".\n",
      ".\n",
      ".\n",
      "4\n",
      "1\n",
      "9\n",
      ".\n",
      ".\n",
      "5\n",
      "*****\n",
      ".\n",
      ".\n",
      ".\n",
      ".\n",
      "8\n",
      ".\n",
      ".\n",
      "7\n",
      "9\n"
     ]
    }
   ],
   "source": [
    "for i in range(len(arr)):\n",
    "    print(\"*****\")\n",
    "    for j in range(len(arr)):\n",
    "        print(arr[i][j])\n",
    "        "
   ]
  },
  {
   "cell_type": "code",
   "execution_count": 15,
   "id": "3c10475f-5f1c-4ed8-a6a0-6e95e21f4204",
   "metadata": {},
   "outputs": [
    {
     "name": "stdout",
     "output_type": "stream",
     "text": [
      "true\n"
     ]
    }
   ],
   "source": [
    "if '.' in arr[0]:\n",
    "    print('true')"
   ]
  },
  {
   "cell_type": "code",
   "execution_count": 75,
   "id": "008b03b0-3e81-410d-a17d-e663f496bd3c",
   "metadata": {
    "collapsed": true,
    "jupyter": {
     "outputs_hidden": true
    },
    "tags": []
   },
   "outputs": [
    {
     "ename": "TypeError",
     "evalue": "list indices must be integers or slices, not tuple",
     "output_type": "error",
     "traceback": [
      "\u001b[1;31m---------------------------------------------------------------------------\u001b[0m",
      "\u001b[1;31mTypeError\u001b[0m                                 Traceback (most recent call last)",
      "\u001b[1;32m<ipython-input-75-4fa90dbc5e6d>\u001b[0m in \u001b[0;36m<module>\u001b[1;34m\u001b[0m\n\u001b[1;32m----> 1\u001b[1;33m \u001b[0marr\u001b[0m\u001b[1;33m[\u001b[0m\u001b[1;33m:\u001b[0m\u001b[1;36m3\u001b[0m\u001b[1;33m]\u001b[0m\u001b[1;33m[\u001b[0m\u001b[1;33m:\u001b[0m\u001b[1;33m,\u001b[0m\u001b[1;33m:\u001b[0m\u001b[0mint\u001b[0m\u001b[1;33m(\u001b[0m\u001b[1;36m3\u001b[0m\u001b[1;33m)\u001b[0m\u001b[1;33m]\u001b[0m\u001b[1;33m\u001b[0m\u001b[1;33m\u001b[0m\u001b[0m\n\u001b[0m",
      "\u001b[1;31mTypeError\u001b[0m: list indices must be integers or slices, not tuple"
     ]
    }
   ],
   "source": []
  },
  {
   "cell_type": "code",
   "execution_count": 102,
   "id": "139e01c8-5fc0-49d4-bb6c-381b621e93d2",
   "metadata": {},
   "outputs": [],
   "source": [
    "zone0 = arr[:3][:,:3] # Zone 0\n",
    "zone1 = arr[:3][:,3:6] # Zone 1\n",
    "zone2 = arr[:3][:,6:9] # Zone 2\n",
    "zone3 = arr[3:6][:,:3] # Zone 3 \n",
    "zone4 = arr[3:6][:,3:6] # Zone 4\n",
    "zone5 = arr[3:6][:,6:9] # Zone 5\n",
    "zone6 = arr[6:9][:,:3] # Zone 6 \n",
    "zone7 = arr[6:9][:,3:6] # Zone 7\n",
    "zone8 = arr[6:9][:,6:9] # Zone 8 "
   ]
  },
  {
   "cell_type": "code",
   "execution_count": 129,
   "id": "1842719b-bac2-420f-8793-1db4e0ddf941",
   "metadata": {},
   "outputs": [
    {
     "data": {
      "text/plain": [
       "array([[['5', '3', '.'],\n",
       "        ['6', '.', '.'],\n",
       "        ['.', '9', '8']],\n",
       "\n",
       "       [['.', '7', '.'],\n",
       "        ['1', '9', '5'],\n",
       "        ['.', '.', '.']],\n",
       "\n",
       "       [['.', '.', '.'],\n",
       "        ['.', '.', '.'],\n",
       "        ['.', '6', '.']],\n",
       "\n",
       "       [['8', '.', '.'],\n",
       "        ['4', '.', '.'],\n",
       "        ['7', '.', '.']],\n",
       "\n",
       "       [['.', '6', '.'],\n",
       "        ['8', '.', '3'],\n",
       "        ['.', '2', '.']],\n",
       "\n",
       "       [['.', '.', '3'],\n",
       "        ['.', '.', '1'],\n",
       "        ['.', '.', '6']],\n",
       "\n",
       "       [['.', '6', '.'],\n",
       "        ['.', '.', '.'],\n",
       "        ['.', '.', '.']],\n",
       "\n",
       "       [['.', '.', '.'],\n",
       "        ['4', '1', '9'],\n",
       "        ['.', '8', '.']],\n",
       "\n",
       "       [['2', '8', '.'],\n",
       "        ['.', '.', '5'],\n",
       "        ['.', '7', '9']]], dtype='<U1')"
      ]
     },
     "execution_count": 129,
     "metadata": {},
     "output_type": "execute_result"
    }
   ],
   "source": [
    "t = np.concatenate([[zone0], [zone1], [zone2], [zone3], [zone4], [zone5], [zone6], [zone7], [zone8]],axis=0)\n",
    "t"
   ]
  },
  {
   "cell_type": "markdown",
   "id": "1a4092df-37d8-4cf3-95bd-2e157dbae505",
   "metadata": {},
   "source": [
    "## This is How we change the array"
   ]
  },
  {
   "cell_type": "code",
   "execution_count": 148,
   "id": "8477f85b-87ed-4b18-b9ac-f36ed8838d97",
   "metadata": {},
   "outputs": [
    {
     "data": {
      "text/plain": [
       "array([['.', '6', '.'],\n",
       "       ['1', '9', '5'],\n",
       "       ['.', '.', '.']], dtype='<U1')"
      ]
     },
     "execution_count": 148,
     "metadata": {},
     "output_type": "execute_result"
    }
   ],
   "source": [
    "zone1[0][1] = 6\n",
    "zone1"
   ]
  },
  {
   "cell_type": "code",
   "execution_count": 150,
   "id": "4cfb90bd-b02f-4472-a72a-6435dcb055a6",
   "metadata": {},
   "outputs": [
    {
     "data": {
      "text/plain": [
       "array([['.', '6', '.'],\n",
       "       ['1', '9', '5'],\n",
       "       ['.', '.', '.']], dtype='<U1')"
      ]
     },
     "execution_count": 150,
     "metadata": {},
     "output_type": "execute_result"
    }
   ],
   "source": [
    "arr[:3][:,3:6] = zone1 # coudl alos add[0][1] and only swap one thign \n",
    "arr[:3][:,3:6] # Zone 1\n"
   ]
  },
  {
   "cell_type": "code",
   "execution_count": 151,
   "id": "5c9cc101-d16d-4980-8afa-bee582d5e953",
   "metadata": {},
   "outputs": [
    {
     "data": {
      "text/plain": [
       "array([['5', '3', '.', '.', '6', '.', '.', '.', '.'],\n",
       "       ['6', '.', '.', '1', '9', '5', '.', '.', '.'],\n",
       "       ['.', '9', '8', '.', '.', '.', '.', '6', '.'],\n",
       "       ['8', '.', '.', '.', '6', '.', '.', '.', '3'],\n",
       "       ['4', '.', '.', '8', '.', '3', '.', '.', '1'],\n",
       "       ['7', '.', '.', '.', '2', '.', '.', '.', '6'],\n",
       "       ['.', '6', '.', '.', '.', '.', '2', '8', '.'],\n",
       "       ['.', '.', '.', '4', '1', '9', '.', '.', '5'],\n",
       "       ['.', '.', '.', '.', '8', '.', '.', '7', '9']], dtype='<U1')"
      ]
     },
     "execution_count": 151,
     "metadata": {},
     "output_type": "execute_result"
    }
   ],
   "source": [
    "arr"
   ]
  },
  {
   "cell_type": "code",
   "execution_count": 169,
   "id": "4a31c027-d6dd-4029-8fe5-bc31198e756d",
   "metadata": {},
   "outputs": [
    {
     "data": {
      "text/plain": [
       "'.'"
      ]
     },
     "execution_count": 169,
     "metadata": {},
     "output_type": "execute_result"
    }
   ],
   "source": [
    "arr[:3][:,3:6][val[0][0]][val[0][1]]"
   ]
  },
  {
   "cell_type": "code",
   "execution_count": 167,
   "id": "a8359ffb-a7d2-4782-9857-5977651173fe",
   "metadata": {},
   "outputs": [
    {
     "data": {
      "text/plain": [
       "[0, 2]"
      ]
     },
     "execution_count": 167,
     "metadata": {},
     "output_type": "execute_result"
    }
   ],
   "source": [
    "val[0]"
   ]
  },
  {
   "cell_type": "code",
   "execution_count": null,
   "id": "2d78aef7-e9cb-4476-94c1-f8aa110b9dbf",
   "metadata": {},
   "outputs": [],
   "source": []
  }
 ],
 "metadata": {
  "kernelspec": {
   "display_name": "Python 3",
   "language": "python",
   "name": "python3"
  },
  "language_info": {
   "codemirror_mode": {
    "name": "ipython",
    "version": 3
   },
   "file_extension": ".py",
   "mimetype": "text/x-python",
   "name": "python",
   "nbconvert_exporter": "python",
   "pygments_lexer": "ipython3",
   "version": "3.8.8"
  }
 },
 "nbformat": 4,
 "nbformat_minor": 5
}
