{
 "cells": [
  {
   "cell_type": "code",
   "execution_count": 69,
   "id": "f1a193a9-855e-4686-8b0d-dfcd27293eb7",
   "metadata": {},
   "outputs": [],
   "source": [
    "import numpy as np\n",
    "import time "
   ]
  },
  {
   "cell_type": "code",
   "execution_count": 70,
   "id": "ec148cdf-fd60-478a-9a2b-f93a1103eb2d",
   "metadata": {},
   "outputs": [],
   "source": [
    "def ArrayEquals(arr1, arr2):\n",
    "    if arr1.shape == arr2.shape:\n",
    "        for i in range(len(arr1)):\n",
    "            for j in range(len(arr2)):\n",
    "                if arr1[i][j] != arr2[i][j]:\n",
    "                    return False\n",
    "                return True\n",
    "    else:\n",
    "        raise ValueError(\"The Arrays must have the same shape\")\n",
    "# Makes Sure the arrays are equal but more importantly, helps us end the Sodoku code when it executes for too long "
   ]
  },
  {
   "cell_type": "code",
   "execution_count": 71,
   "id": "a2f1bde6-d4bf-45ac-ac02-caf935b4e6cc",
   "metadata": {},
   "outputs": [],
   "source": [
    "def SodokuSolver(arr):\n",
    "    end_code = -1\n",
    "    num = len(arr)\n",
    "    val = 0\n",
    "    while '.' in arr:\n",
    "        old_array = arr # We have this value to compare to the new array for change. By monitoring change, we can tell whether to stop or continue the code\n",
    "        \n",
    "        if ArrayEquals(old_array,arr): # if True, arrays are equal\n",
    "            end_code +=1 # The first run of this sets end_code to 0 since this code will automatically return true \n",
    "            \n",
    "            # We do not want the old array to be equal to the new array because this shows that our code is not finding new values and thus is stuck in a loop. When this happens for too long, we want to end the code\n",
    "        \n",
    "        \n",
    "        if end_code ==10: # We have a threshold of 10.\n",
    "            print(\"The Sodoku Model is unable to solve this Sodoku\")\n",
    "            print(\"But some values were found. Here they are:\")\n",
    "            break\n",
    "        \n",
    "        \n",
    "        num_list = [1,2,3,4,5,6,7,8,9]\n",
    "        for numbers in num_list:\n",
    "            val = numbers\n",
    "            pos = []\n",
    "\n",
    "            # Now that a number has been found, we want to loop through the entire array again, but this time keep track of any number that matches our chosen number\n",
    "            # We want to store that number's position in pos.\n",
    "            for a in range(num):\n",
    "                for b in range(num):\n",
    "                    if arr[a][b] == str(val):\n",
    "                        pos.append([a,b])\n",
    "                    # After it has looped through the entire array, it would have found all the numbers similar to our chosen number and appended their positions to our pos array\n",
    "            # Now we want to off all the row's and columns associated with each position in our pos column by changing all the '.' to '!'\n",
    "            for c in range(len(pos)):\n",
    "                value = pos[c] # Save the value of the specific pos Ex. [0,1]\n",
    "                for d in range(9): # Soduku is a 9 x 9 game. We want to off the ROWS\n",
    "                    if arr[value[0]][d] == '.':\n",
    "                        arr[value[0]][d] = '!'\n",
    "\n",
    "                for e in range(9):  # This is for the COLUMNS that we will off\n",
    "                    if arr[e][value[1]] == '.':\n",
    "                        arr[e][value[1]] = '!'\n",
    "                        \n",
    "            # Now we handle the 8 zones, from Zone 0 to Zone 8 \n",
    "            ## arr = np.array(arr) # This makes our Zone section so much easier\n",
    "            zone0 = arr[:3][:,:3] # Zone 0\n",
    "            zone1 = arr[:3][:,3:6] # Zone 1\n",
    "            zone2 = arr[:3][:,6:9] # Zone 2\n",
    "            zone3 = arr[3:6][:,:3] # Zone 3 \n",
    "            zone4 = arr[3:6][:,3:6] # Zone 4\n",
    "            zone5 = arr[3:6][:,6:9] # Zone 5\n",
    "            zone6 = arr[6:9][:,:3] # Zone 6 \n",
    "            zone7 = arr[6:9][:,3:6] # Zone 7\n",
    "            zone8 = arr[6:9][:,6:9] # Zone 8 \n",
    "\n",
    "            zones = np.concatenate([[zone0], [zone1], [zone2], [zone3], [zone4], [zone5], [zone6], [zone7], [zone8]],axis=0) # Combines all the zones, allowing us to loop through them together\n",
    "            # Rather than looping through them separately\n",
    "\n",
    "\n",
    "\n",
    "            for zone in range(len(zones)): # Loops through each zone, starting from zone0 \n",
    "\n",
    "                count = 0 # Measures how many times '.' shows up\n",
    "                loc = [] # Saves the location of the dots \n",
    "\n",
    "                for f in range(3):\n",
    "                    for g in range(3): # Each zone is a 3 x 3 matrix\n",
    "                        if zones[zone][f][g] == '.': # zones hold all 9 zones. The [zone] loops on each zone in zones. The [f] loops on the row of each zone. The [g] loops on the column of each zone\n",
    "                            count +=1\n",
    "                            loc.append([f,g])\n",
    "\n",
    "\n",
    "                if count ==1: # Meaning if only 1 '.' was found in a zone\n",
    "                    if str(val) not in zones[zone]: # Making sure we avoid repetition of numbers \n",
    "\n",
    "\n",
    "                        zones[zone][loc[0][0]][loc[0][1]] = val # The loc[0][0] = row location of the '.' loc[0][1] = column location of the '.'. We set the '.' equal to the number\n",
    "\n",
    "                        if zone==0:\n",
    "                            arr[:3][:,:3] = zones[zone] # We can also zoom in on the specific point using loc[0][0] and loc [0][1]\n",
    "                        elif zone==1:\n",
    "                            arr[:3][:,3:6] = zones[zone] \n",
    "                        elif zone==2:\n",
    "                            arr[:3][:,6:9] = zones[zone]\n",
    "                        elif zone==3:\n",
    "                            arr[3:6][:,:3] = zones[zone]\n",
    "                        elif zone==4:\n",
    "                            arr[3:6][:,3:6] = zones[zone]\n",
    "                        elif zone==5:\n",
    "                            arr[3:6][:,6:9] = zones[zone]\n",
    "                        elif zone==6:\n",
    "                            arr[6:9][:,:3] = zones[zone]\n",
    "                        elif zone==7:\n",
    "                            arr[6:9][:,3:6] = zones[zone]\n",
    "                        elif zone==8:\n",
    "                            arr[6:9][:,6:9] = zones[zone]\n",
    "\n",
    "            # Now that we are done with the zones, we want to change all the '!' back to '.'\n",
    "            for h in range(num):\n",
    "                for k in range(num):\n",
    "                    if arr[h][k] == '!':\n",
    "                        arr[h][k] = '.'\n",
    "\n",
    "            \n",
    "\n",
    "                    # Before we proceed to repeat the entire process again, there is one last thing \n",
    "                    # In sodoku, if there is 8 numbers in a row or 8 numbers in a column, the last number is given.\n",
    "    \n",
    "    return arr\n"
   ]
  },
  {
   "cell_type": "code",
   "execution_count": 72,
   "id": "167b4929-a012-4218-bdea-736d0a18ab2f",
   "metadata": {},
   "outputs": [],
   "source": [
    "arr = [[\"5\",\"3\",\".\",\".\",\"7\",\".\",\".\",\".\",\".\"],\n",
    "       [\"6\",\".\",\".\",\"1\",\"9\",\"5\",\".\",\".\",\".\"],\n",
    "       [\".\",\"9\",\"8\",\".\",\".\",\".\",\".\",\"6\",\".\"],\n",
    "       [\"8\",\".\",\".\",\".\",\"6\",\".\",\".\",\".\",\"3\"],\n",
    "       [\"4\",\".\",\".\",\"8\",\".\",\"3\",\".\",\".\",\"1\"],\n",
    "       [\"7\",\".\",\".\",\".\",\"2\",\".\",\".\",\".\",\"6\"],\n",
    "       [\".\",\"6\",\".\",\".\",\".\",\".\",\"2\",\"8\",\".\"],\n",
    "       [\".\",\".\",\".\",\"4\",\"1\",\"9\",\".\",\".\",\"5\"],\n",
    "       [\".\",\".\",\".\",\".\",\"8\",\".\",\".\",\"7\",\"9\"]]\n",
    "arr = np.array(arr)"
   ]
  },
  {
   "cell_type": "code",
   "execution_count": 73,
   "id": "3bcc4a1a-3cfb-48fd-9954-cf465727200a",
   "metadata": {},
   "outputs": [
    {
     "name": "stdout",
     "output_type": "stream",
     "text": [
      "Wall time: 50.2 ms\n"
     ]
    },
    {
     "data": {
      "text/plain": [
       "array([['5', '3', '4', '6', '7', '8', '9', '1', '2'],\n",
       "       ['6', '7', '2', '1', '9', '5', '3', '4', '8'],\n",
       "       ['1', '9', '8', '3', '4', '2', '5', '6', '7'],\n",
       "       ['8', '5', '9', '7', '6', '1', '4', '2', '3'],\n",
       "       ['4', '2', '6', '8', '5', '3', '7', '9', '1'],\n",
       "       ['7', '1', '3', '9', '2', '4', '8', '5', '6'],\n",
       "       ['9', '6', '1', '5', '3', '7', '2', '8', '4'],\n",
       "       ['2', '8', '7', '4', '1', '9', '6', '3', '5'],\n",
       "       ['3', '4', '5', '2', '8', '6', '1', '7', '9']], dtype='<U1')"
      ]
     },
     "execution_count": 73,
     "metadata": {},
     "output_type": "execute_result"
    }
   ],
   "source": [
    "%%time\n",
    "SodokuSolver(arr)"
   ]
  },
  {
   "cell_type": "code",
   "execution_count": 74,
   "id": "a87176c4-7e10-4231-8683-685486e4d3c3",
   "metadata": {},
   "outputs": [
    {
     "name": "stdout",
     "output_type": "stream",
     "text": [
      "hello\n"
     ]
    }
   ],
   "source": [
    "if len(te) == len(te):\n",
    "    print(\"hello\")"
   ]
  },
  {
   "cell_type": "code",
   "execution_count": 75,
   "id": "77d3c643-d4a1-4789-a0b8-07e9f03fe25d",
   "metadata": {},
   "outputs": [
    {
     "data": {
      "text/plain": [
       "True"
      ]
     },
     "execution_count": 75,
     "metadata": {},
     "output_type": "execute_result"
    }
   ],
   "source": [
    "ArrayEquals(te,te)"
   ]
  },
  {
   "cell_type": "code",
   "execution_count": 76,
   "id": "068513c0-13d4-4495-85fa-003d82ab929b",
   "metadata": {},
   "outputs": [
    {
     "data": {
      "text/plain": [
       "array([['.', '.', '.', '.', '.', '1', '.', '.', '6'],\n",
       "       ['2', '.', '7', '.', '.', '.', '8', '.', '.'],\n",
       "       ['.', '.', '8', '9', '.', '.', '.', '.', '.'],\n",
       "       ['.', '6', '5', '.', '.', '8', '2', '.', '.'],\n",
       "       ['.', '.', '.', '1', '5', '.', '.', '9', '.'],\n",
       "       ['8', '.', '.', '.', '.', '7', '.', '.', '3'],\n",
       "       ['.', '.', '.', '.', '7', '.', '.', '.', '4'],\n",
       "       ['.', '2', '.', '.', '.', '6', '.', '.', '.'],\n",
       "       ['.', '9', '.', '.', '.', '.', '.', '.', '.']], dtype='<U1')"
      ]
     },
     "execution_count": 76,
     "metadata": {},
     "output_type": "execute_result"
    }
   ],
   "source": [
    "arr = [[\".\",\".\",\".\",\".\",\".\",\"1\",\".\",\".\",\"6\"],\n",
    "       [\"2\",\".\",\"7\",\".\",\".\",\".\",\"8\",\".\",\".\"],\n",
    "       [\".\",\".\",\"8\",\"9\",\".\",\".\",\".\",\".\",\".\"],\n",
    "       [\".\",\"6\",\"5\",\".\",\".\",\"8\",\"2\",\".\",\".\"],\n",
    "       [\".\",\".\",\".\",\"1\",\"5\",\".\",\".\",\"9\",\".\"],\n",
    "       [\"8\",\".\",\".\",\".\",\".\",\"7\",\".\",\".\",\"3\"],\n",
    "       [\".\",\".\",\".\",\".\",\"7\",\".\",\".\",\".\",\"4\"],\n",
    "       [\".\",\"2\",\".\",\".\",\".\",\"6\",\".\",\".\",\".\"],\n",
    "       [\".\",\"9\",\".\",\".\",\".\",\".\",\".\",\".\",\".\"]]\n",
    "arr = np.array(arr)\n",
    "arr"
   ]
  },
  {
   "cell_type": "code",
   "execution_count": 77,
   "id": "83c78367-c8ef-4718-b174-d2154f605b6b",
   "metadata": {},
   "outputs": [
    {
     "name": "stdout",
     "output_type": "stream",
     "text": [
      "The Sodoku Model is unable to solve this Sodoku\n",
      "But some values were found. Here they are:\n",
      "Wall time: 52 ms\n"
     ]
    },
    {
     "data": {
      "text/plain": [
       "array([['.', '.', '.', '7', '8', '1', '.', '.', '6'],\n",
       "       ['2', '.', '7', '.', '.', '.', '8', '.', '.'],\n",
       "       ['6', '.', '8', '9', '.', '.', '.', '.', '.'],\n",
       "       ['.', '6', '5', '.', '.', '8', '2', '.', '.'],\n",
       "       ['.', '.', '.', '1', '5', '.', '.', '9', '8'],\n",
       "       ['8', '.', '.', '.', '.', '7', '.', '.', '3'],\n",
       "       ['.', '8', '.', '.', '7', '.', '.', '.', '4'],\n",
       "       ['.', '2', '.', '.', '.', '6', '.', '.', '.'],\n",
       "       ['.', '9', '.', '.', '.', '.', '.', '.', '.']], dtype='<U1')"
      ]
     },
     "execution_count": 77,
     "metadata": {},
     "output_type": "execute_result"
    }
   ],
   "source": [
    "%%time\n",
    "SodokuSolver(arr)"
   ]
  },
  {
   "cell_type": "code",
   "execution_count": null,
   "id": "5815f059-3a7d-4461-ad0f-453855853000",
   "metadata": {},
   "outputs": [],
   "source": []
  }
 ],
 "metadata": {
  "kernelspec": {
   "display_name": "Python 3",
   "language": "python",
   "name": "python3"
  },
  "language_info": {
   "codemirror_mode": {
    "name": "ipython",
    "version": 3
   },
   "file_extension": ".py",
   "mimetype": "text/x-python",
   "name": "python",
   "nbconvert_exporter": "python",
   "pygments_lexer": "ipython3",
   "version": "3.8.8"
  }
 },
 "nbformat": 4,
 "nbformat_minor": 5
}
